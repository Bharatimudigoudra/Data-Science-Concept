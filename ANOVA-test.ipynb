{
 "cells": [
  {
   "cell_type": "markdown",
   "metadata": {},
   "source": [
    "Ex: There is a company that is trying to produce three kinds of fertilizers for plants: A, B, and C. The goal is to determine whether all fertilizers have the same impact on plants or if their effects differ. Here, we are analyzing differences between the groups."
   ]
  },
  {
   "cell_type": "code",
   "execution_count": 2,
   "metadata": {},
   "outputs": [],
   "source": [
    "import numpy as np\n",
    "import pandas as pd\n",
    "from scipy import stats"
   ]
  },
  {
   "cell_type": "code",
   "execution_count": 3,
   "metadata": {},
   "outputs": [],
   "source": [
    "# Given data\n",
    "fertilizer_A = np.array([55, 60, 52, 58, 62])\n",
    "fertilizer_B = np.array([65, 70, 68, 66, 72])\n",
    "fertilizer_C = np.array([75, 78, 74, 76, 80])"
   ]
  },
  {
   "cell_type": "code",
   "execution_count": 4,
   "metadata": {},
   "outputs": [],
   "source": [
    "# Step 1: Compute the Group Means\n",
    "mean_A = np.mean(fertilizer_A)\n",
    "mean_B = np.mean(fertilizer_B)\n",
    "mean_C = np.mean(fertilizer_C)"
   ]
  },
  {
   "cell_type": "code",
   "execution_count": 5,
   "metadata": {},
   "outputs": [],
   "source": [
    "data_combined = np.concatenate([fertilizer_A, fertilizer_B, fertilizer_C])\n",
    "overall_mean = np.mean(data_combined)"
   ]
  },
  {
   "cell_type": "code",
   "execution_count": 6,
   "metadata": {},
   "outputs": [],
   "source": [
    "# Step 2: Compute Sum of Squares Between Groups (SSB)\n",
    "n_A = len(fertilizer_A)\n",
    "n_B = len(fertilizer_B)\n",
    "n_C = len(fertilizer_C)"
   ]
  },
  {
   "cell_type": "code",
   "execution_count": 7,
   "metadata": {},
   "outputs": [],
   "source": [
    "SSB = (n_A * (mean_A - overall_mean) ** 2 +\n",
    "       n_B * (mean_B - overall_mean) ** 2 +\n",
    "       n_C * (mean_C - overall_mean) ** 2)"
   ]
  },
  {
   "cell_type": "code",
   "execution_count": 8,
   "metadata": {},
   "outputs": [],
   "source": [
    "# Step 3: Compute Sum of Squares Within Groups (SSW)\n",
    "SSW_A = np.sum((fertilizer_A - mean_A) ** 2)\n",
    "SSW_B = np.sum((fertilizer_B - mean_B) ** 2)\n",
    "SSW_C = np.sum((fertilizer_C - mean_C) ** 2)\n",
    "SSW = SSW_A + SSW_B + SSW_C"
   ]
  },
  {
   "cell_type": "code",
   "execution_count": 9,
   "metadata": {},
   "outputs": [],
   "source": [
    "# Step 4: Compute Total Sum of Squares (SST)\n",
    "SST = SSB + SSW"
   ]
  },
  {
   "cell_type": "code",
   "execution_count": 10,
   "metadata": {},
   "outputs": [],
   "source": [
    "# Step 5: Compute Mean Squares (MSB and MSW)\n",
    "k = 3  # Number of groups (fertilizers)\n",
    "N = len(data_combined)  # Total number of observations"
   ]
  },
  {
   "cell_type": "code",
   "execution_count": 11,
   "metadata": {},
   "outputs": [],
   "source": [
    "MSB = SSB / (k - 1)\n",
    "MSW = SSW / (N - k)"
   ]
  },
  {
   "cell_type": "code",
   "execution_count": 12,
   "metadata": {},
   "outputs": [],
   "source": [
    "# Step 6: Compute F-statistic\n",
    "F_statistic = MSB / MSW"
   ]
  },
  {
   "cell_type": "code",
   "execution_count": 13,
   "metadata": {},
   "outputs": [],
   "source": [
    "# Step 7: Compute p-value\n",
    "p_value = 1 - stats.f.cdf(F_statistic, k - 1, N - k)"
   ]
  },
  {
   "cell_type": "code",
   "execution_count": 14,
   "metadata": {},
   "outputs": [],
   "source": [
    "# Organizing the results into a readable DataFrame\n",
    "anova_manual_results = pd.DataFrame({\n",
    "    \"Sum of Squares\": [SSB, SSW, SST],\n",
    "    \"Degrees of Freedom\": [k - 1, N - k, N - 1],\n",
    "    \"Mean Squares\": [MSB, MSW, None],\n",
    "    \"F-Statistic\": [F_statistic, None, None],\n",
    "    \"P-Value\": [p_value, None, None]\n",
    "}, index=[\"Between Groups (SSB)\", \"Within Groups (SSW)\", \"Total (SST)\"])\n"
   ]
  },
  {
   "cell_type": "code",
   "execution_count": 15,
   "metadata": {},
   "outputs": [
    {
     "name": "stdout",
     "output_type": "stream",
     "text": [
      "                      Sum of Squares  Degrees of Freedom  Mean Squares  \\\n",
      "Between Groups (SSB)           926.4                   2    463.200000   \n",
      "Within Groups (SSW)            119.2                  12      9.933333   \n",
      "Total (SST)                   1045.6                  14           NaN   \n",
      "\n",
      "                      F-Statistic   P-Value  \n",
      "Between Groups (SSB)    46.630872  0.000002  \n",
      "Within Groups (SSW)           NaN       NaN  \n",
      "Total (SST)                   NaN       NaN  \n"
     ]
    }
   ],
   "source": [
    "# Display the detailed manual ANOVA calculation results\n",
    "print(anova_manual_results)"
   ]
  },
  {
   "cell_type": "code",
   "execution_count": 18,
   "metadata": {},
   "outputs": [
    {
     "name": "stdout",
     "output_type": "stream",
     "text": [
      "Since the p-value is < 0.05, we reject the null hypothesis. At least one fertilizer significantly affects plant growth.\n"
     ]
    }
   ],
   "source": [
    "# Final Interpretation\n",
    "if p_value < 0.05:\n",
    "    print(\"Since the p-value is < 0.05, we reject the null hypothesis. At least one fertilizer significantly affects plant growth.\")\n",
    "else:\n",
    "    print(\"Since the p-value is ≥ 0.05, we fail to reject the null hypothesis. The fertilizers have similar effects on plant growth.\")"
   ]
  },
  {
   "cell_type": "markdown",
   "metadata": {},
   "source": [
    "We are going to reject the NULL hypothesis and out of A, B and C there is one fertilizer which is helping as to grow plats in a better way. So we will reject it."
   ]
  },
  {
   "cell_type": "code",
   "execution_count": null,
   "metadata": {},
   "outputs": [],
   "source": []
  }
 ],
 "metadata": {
  "kernelspec": {
   "display_name": "base",
   "language": "python",
   "name": "python3"
  },
  "language_info": {
   "codemirror_mode": {
    "name": "ipython",
    "version": 3
   },
   "file_extension": ".py",
   "mimetype": "text/x-python",
   "name": "python",
   "nbconvert_exporter": "python",
   "pygments_lexer": "ipython3",
   "version": "3.9.12"
  }
 },
 "nbformat": 4,
 "nbformat_minor": 2
}
